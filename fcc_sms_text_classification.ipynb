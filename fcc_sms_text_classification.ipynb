{
  "nbformat": 4,
  "nbformat_minor": 0,
  "metadata": {
    "colab": {
      "name": "fcc_sms_text_classification.ipynb",
      "private_outputs": true,
      "provenance": [],
      "collapsed_sections": [],
      "include_colab_link": true
    },
    "kernelspec": {
      "display_name": "Python 3",
      "name": "python3"
    }
  },
  "cells": [
    {
      "cell_type": "markdown",
      "metadata": {
        "id": "view-in-github",
        "colab_type": "text"
      },
      "source": [
        "<a href=\"https://colab.research.google.com/github/hoangnam-nguyen/sms_text_classification/blob/main/fcc_sms_text_classification.ipynb\" target=\"_parent\"><img src=\"https://colab.research.google.com/assets/colab-badge.svg\" alt=\"Open In Colab\"/></a>"
      ]
    },
    {
      "cell_type": "markdown",
      "metadata": {
        "id": "Eg62Pmz3o83v"
      },
      "source": [
        "*Note: You are currently reading this using Google Colaboratory which is a cloud-hosted version of Jupyter Notebook. This is a document containing both text cells for documentation and runnable code cells. If you are unfamiliar with Jupyter Notebook, watch this 3-minute introduction before starting this challenge: https://www.youtube.com/watch?v=inN8seMm7UI*\n",
        "\n",
        "---\n",
        "\n",
        "In this challenge, you need to create a machine learning model that will classify SMS messages as either \"ham\" or \"spam\". A \"ham\" message is a normal message sent by a friend. A \"spam\" message is an advertisement or a message sent by a company.\n",
        "\n",
        "You should create a function called `predict_message` that takes a message string as an argument and returns a list. The first element in the list should be a number between zero and one that indicates the likeliness of \"ham\" (0) or \"spam\" (1). The second element in the list should be the word \"ham\" or \"spam\", depending on which is most likely.\n",
        "\n",
        "For this challenge, you will use the [SMS Spam Collection dataset](http://www.dt.fee.unicamp.br/~tiago/smsspamcollection/). The dataset has already been grouped into train data and test data.\n",
        "\n",
        "The first two cells import the libraries and data. The final cell tests your model and function. Add your code in between these cells.\n"
      ]
    },
    {
      "cell_type": "code",
      "metadata": {
        "id": "8RZOuS9LWQvv"
      },
      "source": [
        "# import libraries\n",
        "try:\n",
        "  # %tensorflow_version only exists in Colab.\n",
        "  !pip install tf-nightly\n",
        "except Exception:\n",
        "  pass\n",
        "import tensorflow as tf\n",
        "import pandas as pd\n",
        "from tensorflow import keras\n",
        "!pip install tensorflow-datasets\n",
        "import tensorflow_datasets as tfds\n",
        "import numpy as np\n",
        "import matplotlib.pyplot as plt\n",
        "\n",
        "print(tf.__version__)"
      ],
      "execution_count": null,
      "outputs": []
    },
    {
      "cell_type": "code",
      "metadata": {
        "id": "lMHwYXHXCar3"
      },
      "source": [
        "# get data files\n",
        "!wget https://cdn.freecodecamp.org/project-data/sms/train-data.tsv\n",
        "!wget https://cdn.freecodecamp.org/project-data/sms/valid-data.tsv\n",
        "\n",
        "train_file_path = \"train-data.tsv\"\n",
        "test_file_path = \"valid-data.tsv\""
      ],
      "execution_count": null,
      "outputs": []
    },
    {
      "cell_type": "markdown",
      "metadata": {
        "id": "9l_QPq-0v-1F"
      },
      "source": [
        "### Read contents of files"
      ]
    },
    {
      "cell_type": "code",
      "metadata": {
        "id": "g_h508FEClxO"
      },
      "source": [
        "txt_train = open(train_file_path, 'rb').read().decode(encoding='utf-8')\n",
        "txt_test = open(test_file_path, 'rb').read().decode(encoding='utf-8')"
      ],
      "execution_count": null,
      "outputs": []
    },
    {
      "cell_type": "markdown",
      "metadata": {
        "id": "HpeB2ukNwESk"
      },
      "source": [
        "### Assess the datasets"
      ]
    },
    {
      "cell_type": "markdown",
      "metadata": {
        "id": "IAAhmL0ZwX4d"
      },
      "source": [
        "Number of characters in each file"
      ]
    },
    {
      "cell_type": "code",
      "metadata": {
        "id": "zOMKywn4zReN"
      },
      "source": [
        "print('Length of training dataset text: {} characters'.format(len(txt_train)))\n",
        "print('Length of test dataset text: {} characters'.format(len(txt_test)))"
      ],
      "execution_count": null,
      "outputs": []
    },
    {
      "cell_type": "markdown",
      "metadata": {
        "id": "u72aXvCswKX0"
      },
      "source": [
        "How the txt_train looks like"
      ]
    },
    {
      "cell_type": "code",
      "metadata": {
        "id": "XGAKCuktX_ZF"
      },
      "source": [
        "txt_train[:500]"
      ],
      "execution_count": null,
      "outputs": []
    },
    {
      "cell_type": "markdown",
      "metadata": {
        "id": "QQYG4QPQwOOm"
      },
      "source": [
        "Estimate the size of vocabulary in both training and test datasets"
      ]
    },
    {
      "cell_type": "code",
      "metadata": {
        "id": "HLZeBRKJeN0P"
      },
      "source": [
        "text = (txt_train + '\\n' + txt_test).replace('\\n', ' ').replace('ham\\t', '').replace('spam\\t', '')\n",
        "vocab = sorted(set(text))\n",
        "vocab_size = len(vocab)"
      ],
      "execution_count": null,
      "outputs": []
    },
    {
      "cell_type": "markdown",
      "metadata": {
        "id": "K7cqTluOwasc"
      },
      "source": [
        "###Process the data"
      ]
    },
    {
      "cell_type": "code",
      "metadata": {
        "id": "Qi4xAMK2AZ2i"
      },
      "source": [
        "txt_train = txt_train.split('\\n')\n",
        "txt_test = txt_test.split('\\n')\n",
        "print(len(txt_train))\n",
        "print(len(txt_test))"
      ],
      "execution_count": null,
      "outputs": []
    },
    {
      "cell_type": "markdown",
      "metadata": {
        "id": "bPX00qQOwgs0"
      },
      "source": [
        "Remove empty item in both lists"
      ]
    },
    {
      "cell_type": "code",
      "metadata": {
        "id": "DyW3Xj_TVgB_"
      },
      "source": [
        "txt_train = [x for x in txt_train if x != '']\n",
        "txt_test = [x for x in txt_test if x != '']\n",
        "print(len(txt_train))\n",
        "print(len(txt_test))"
      ],
      "execution_count": null,
      "outputs": []
    },
    {
      "cell_type": "markdown",
      "metadata": {
        "id": "bNd5U8oownrk"
      },
      "source": [
        "Build training and test datasets (features and labels)"
      ]
    },
    {
      "cell_type": "code",
      "metadata": {
        "id": "4rC_5hBoDczS"
      },
      "source": [
        "from collections import Counter\n",
        "from keras.preprocessing.text import one_hot\n",
        "train_features = []\n",
        "test_features = []\n",
        "train_labels = []\n",
        "test_labels = []\n",
        "\n",
        "for line in txt_train:\n",
        "  train_labels.append(line.split('\\t')[0])\n",
        "  train_features.append(one_hot(line.split('\\t')[1], vocab_size))\n",
        "for line in txt_test:\n",
        "  test_labels.append(line.split('\\t')[0])\n",
        "  test_features.append(one_hot(line.split('\\t')[1], vocab_size))\n",
        "\n",
        "print(Counter(train_labels))\n",
        "print(Counter(test_labels))"
      ],
      "execution_count": null,
      "outputs": []
    },
    {
      "cell_type": "code",
      "metadata": {
        "id": "Au5M3J5rcluu"
      },
      "source": [
        "train_labels = np.array([1 if label=='spam' else 0 for label in train_labels])\n",
        "test_labels = np.array([1 if label=='spam' else 0 for label in test_labels])\n",
        "print(train_features[0])\n",
        "print(test_features[0])"
      ],
      "execution_count": null,
      "outputs": []
    },
    {
      "cell_type": "markdown",
      "metadata": {
        "id": "phjtCw1Swyhf"
      },
      "source": [
        "Pad document to a max length of 150 (estimated from train_features)"
      ]
    },
    {
      "cell_type": "code",
      "metadata": {
        "id": "7VEJMegVh2mW"
      },
      "source": [
        "from keras.preprocessing.sequence import pad_sequences\n",
        "\n",
        "max_length = 150\n",
        "train_padded = pad_sequences(train_features, maxlen=max_length)\n",
        "test_padded = pad_sequences(test_features, maxlen=max_length)\n",
        "print(train_padded[0])"
      ],
      "execution_count": null,
      "outputs": []
    },
    {
      "cell_type": "markdown",
      "metadata": {
        "id": "318XfubVxA-9"
      },
      "source": [
        "###Build the model"
      ]
    },
    {
      "cell_type": "markdown",
      "metadata": {
        "id": "AG7lPUUoxG2k"
      },
      "source": [
        "Define model"
      ]
    },
    {
      "cell_type": "code",
      "metadata": {
        "id": "_C7sW7rojCW6"
      },
      "source": [
        "embedding_dim = 4\n",
        "rnn_units = 8\n",
        "epochs = 10\n",
        "\n",
        "model = tf.keras.Sequential([\n",
        "  tf.keras.layers.Embedding(vocab_size, embedding_dim),\n",
        "  tf.keras.layers.LSTM(rnn_units),\n",
        "  tf.keras.layers.Dense(1, activation='sigmoid')\n",
        "])\n",
        "\n",
        "model.summary()"
      ],
      "execution_count": null,
      "outputs": []
    },
    {
      "cell_type": "markdown",
      "metadata": {
        "id": "Ntlv8v6oxIvN"
      },
      "source": [
        "Compile model"
      ]
    },
    {
      "cell_type": "code",
      "metadata": {
        "id": "f2VsnMk6jCVv"
      },
      "source": [
        "model.compile(optimizer='rmsprop', loss='binary_crossentropy', metrics=['accuracy'])"
      ],
      "execution_count": null,
      "outputs": []
    },
    {
      "cell_type": "markdown",
      "metadata": {
        "id": "tGSvwVRdxLld"
      },
      "source": [
        "Train model"
      ]
    },
    {
      "cell_type": "code",
      "metadata": {
        "id": "bhuFItz9jCNe"
      },
      "source": [
        "history = model.fit(train_padded, train_labels, epochs=epochs, validation_data=(test_padded, test_labels))"
      ],
      "execution_count": null,
      "outputs": []
    },
    {
      "cell_type": "markdown",
      "metadata": {
        "id": "qTHVjLiKxPMU"
      },
      "source": [
        "### Complete function to predict messages based on model"
      ]
    },
    {
      "cell_type": "code",
      "metadata": {
        "id": "J9tD9yACG6M9"
      },
      "source": [
        "# function to predict messages based on model\n",
        "# (should return list containing prediction and label, ex. [0.008318834938108921, 'ham'])\n",
        "def predict_message(pred_text):\n",
        "\n",
        "  padded_text = pad_sequences([one_hot(pred_text, vocab_size)], maxlen=max_length)\n",
        "  likeliness = model.predict(padded_text)[0][0]\n",
        "  prediction = [likeliness, 'ham' if likeliness < 0.5 else 'spam']\n",
        "\n",
        "  return (prediction)\n",
        "\n",
        "pred_text = \"how are you doing today?\"\n",
        "\n",
        "prediction = predict_message(pred_text)\n",
        "print(prediction)"
      ],
      "execution_count": null,
      "outputs": []
    },
    {
      "cell_type": "markdown",
      "metadata": {
        "id": "yviBRQqvxU4L"
      },
      "source": [
        "### Pass freeCodeCamp's test"
      ]
    },
    {
      "cell_type": "code",
      "metadata": {
        "id": "Dxotov85SjsC"
      },
      "source": [
        "# Run this cell to test your function and model. Do not modify contents.\n",
        "def test_predictions():\n",
        "  test_messages = [\"how are you doing today\",\n",
        "                   \"sale today! to stop texts call 98912460324\",\n",
        "                   \"i dont want to go. can we try it a different day? available sat\",\n",
        "                   \"our new mobile video service is live. just install on your phone to start watching.\",\n",
        "                   \"you have won £1000 cash! call to claim your prize.\",\n",
        "                   \"i'll bring it tomorrow. don't forget the milk.\",\n",
        "                   \"wow, is your arm alright. that happened to me one time too\"\n",
        "                  ]\n",
        "\n",
        "  test_answers = [\"ham\", \"spam\", \"ham\", \"spam\", \"spam\", \"ham\", \"ham\"]\n",
        "  passed = True\n",
        "\n",
        "  for msg, ans in zip(test_messages, test_answers):\n",
        "    prediction = predict_message(msg)\n",
        "    print(prediction)\n",
        "    if prediction[1] != ans:\n",
        "      passed = False\n",
        "\n",
        "  if passed:\n",
        "    print(\"You passed the challenge. Great job!\")\n",
        "  else:\n",
        "    print(\"You haven't passed yet. Keep trying.\")\n",
        "\n",
        "test_predictions()\n"
      ],
      "execution_count": null,
      "outputs": []
    }
  ]
}